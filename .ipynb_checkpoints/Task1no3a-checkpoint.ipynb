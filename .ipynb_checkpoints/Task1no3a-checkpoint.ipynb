{
 "cells": [
  {
   "cell_type": "code",
   "execution_count": 1,
   "id": "2063c290-fec5-4eac-8ad5-dd0fb01aa797",
   "metadata": {},
   "outputs": [],
   "source": [
    "import numpy as np"
   ]
  },
  {
   "cell_type": "code",
   "execution_count": 2,
   "id": "67d6467f-e593-4d26-b914-15fc7ad06a30",
   "metadata": {},
   "outputs": [],
   "source": [
    "A = np.array([\n",
    "    [0,    0.93,     0.02,     0,     0.05],  \n",
    "    [0,    0.86,  0.04,  0,     0.1],  \n",
    "    [0,    0,     0.8,   0.2,   0],    \n",
    "    [0,    0.1,   0,     0.4,   0.5],  \n",
    "    [0,    0,     0,     0,     1]\n",
    "])"
   ]
  },
  {
   "cell_type": "code",
   "execution_count": 3,
   "id": "34a3cebb-d824-4fae-8c88-84d7abc102df",
   "metadata": {},
   "outputs": [],
   "source": [
    "initial_state = np.array([0, 200, 0, 0, 0])"
   ]
  },
  {
   "cell_type": "code",
   "execution_count": 4,
   "id": "708c038a-26f4-4570-a273-96d6d44d8bd4",
   "metadata": {},
   "outputs": [],
   "source": [
    "time_steps = 0\n",
    "current_state = initial_state"
   ]
  },
  {
   "cell_type": "code",
   "execution_count": 5,
   "id": "9e29a3ba-aa6f-44ad-84ca-06beca8fe98f",
   "metadata": {},
   "outputs": [],
   "source": [
    "while current_state[1] >= 20:\n",
    "    current_state = current_state @ A \n",
    "    time_steps += 1"
   ]
  },
  {
   "cell_type": "code",
   "execution_count": 6,
   "id": "8f9ae823-7fac-4937-ace5-d9c92087026e",
   "metadata": {},
   "outputs": [
    {
     "data": {
      "text/plain": [
       "(17,\n",
       " array([  0.        ,  18.37226797,   7.79772305,   3.12699022,\n",
       "        170.70301876]))"
      ]
     },
     "execution_count": 6,
     "metadata": {},
     "output_type": "execute_result"
    }
   ],
   "source": [
    "time_steps, current_state"
   ]
  },
  {
   "cell_type": "code",
   "execution_count": null,
   "id": "f2cbf360-fe7d-4c26-a4cf-944ddb9018d5",
   "metadata": {},
   "outputs": [],
   "source": []
  }
 ],
 "metadata": {
  "kernelspec": {
   "display_name": "Python 3 (ipykernel)",
   "language": "python",
   "name": "python3"
  },
  "language_info": {
   "codemirror_mode": {
    "name": "ipython",
    "version": 3
   },
   "file_extension": ".py",
   "mimetype": "text/x-python",
   "name": "python",
   "nbconvert_exporter": "python",
   "pygments_lexer": "ipython3",
   "version": "3.10.4"
  }
 },
 "nbformat": 4,
 "nbformat_minor": 5
}
