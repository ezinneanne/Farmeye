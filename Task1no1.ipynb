{
 "cells": [
  {
   "cell_type": "code",
   "execution_count": 1,
   "id": "75cd263f-8dd4-41d5-bbd6-a756f52c86b3",
   "metadata": {},
   "outputs": [],
   "source": [
    "import numpy as np"
   ]
  },
  {
   "cell_type": "code",
   "execution_count": 2,
   "id": "4854e3e3-31bc-4e78-b5db-cedf89232bbf",
   "metadata": {},
   "outputs": [],
   "source": [
    "A = np.array([[0.05,0.93,0.02,0.0],[0.10,0.86,0.04,0.0],[0.0,0.0,0.80,0.20],[0.50,0.10,0.0,0.4]])"
   ]
  },
  {
   "cell_type": "code",
   "execution_count": 4,
   "id": "390f8b02-50a5-4cbd-b920-732ff1fa2771",
   "metadata": {},
   "outputs": [
    {
     "data": {
      "text/plain": [
       "array([[0.05, 0.93, 0.02, 0.  ],\n",
       "       [0.1 , 0.86, 0.04, 0.  ],\n",
       "       [0.  , 0.  , 0.8 , 0.2 ],\n",
       "       [0.5 , 0.1 , 0.  , 0.4 ]])"
      ]
     },
     "execution_count": 4,
     "metadata": {},
     "output_type": "execute_result"
    }
   ],
   "source": [
    "A"
   ]
  },
  {
   "cell_type": "code",
   "execution_count": null,
   "id": "a83f560a-915a-403c-87bc-e533f3b17c03",
   "metadata": {},
   "outputs": [],
   "source": []
  }
 ],
 "metadata": {
  "kernelspec": {
   "display_name": "Python 3 (ipykernel)",
   "language": "python",
   "name": "python3"
  },
  "language_info": {
   "codemirror_mode": {
    "name": "ipython",
    "version": 3
   },
   "file_extension": ".py",
   "mimetype": "text/x-python",
   "name": "python",
   "nbconvert_exporter": "python",
   "pygments_lexer": "ipython3",
   "version": "3.10.4"
  }
 },
 "nbformat": 4,
 "nbformat_minor": 5
}
