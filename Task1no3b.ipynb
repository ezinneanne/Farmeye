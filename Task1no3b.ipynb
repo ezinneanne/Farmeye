{
 "cells": [
  {
   "cell_type": "code",
   "execution_count": 2,
   "id": "4cc46cb1-3b54-4c9f-b4b7-346cb2a2f15c",
   "metadata": {},
   "outputs": [],
   "source": [
    "import numpy as np"
   ]
  },
  {
   "cell_type": "code",
   "execution_count": 3,
   "id": "f8680074-ea99-4695-b11b-2f67902f38de",
   "metadata": {},
   "outputs": [],
   "source": [
    "A = np.array([\n",
    "    [0,    0.93,     0.02,     0,     0.05],  \n",
    "    [0,    0.86,  0.04,  0,     0.1],  \n",
    "    [0,    0,     0.8,   0.2,   0],    \n",
    "    [0,    0.1,   0,     0.4,   0.5],  \n",
    "    [0,    0,     0,     0,     1]\n",
    "])"
   ]
  },
  {
   "cell_type": "code",
   "execution_count": 4,
   "id": "e1da5e25-91da-47e2-b7f3-687b60d51ce3",
   "metadata": {},
   "outputs": [],
   "source": [
    "N = A[1:4, 1:4]"
   ]
  },
  {
   "cell_type": "code",
   "execution_count": 5,
   "id": "32d28029-a275-4d51-a6fa-4a677b1a0a97",
   "metadata": {},
   "outputs": [],
   "source": [
    "I = np.identity(3)"
   ]
  },
  {
   "cell_type": "code",
   "execution_count": 6,
   "id": "89d5bd5d-3774-4a30-a75a-a8901c4ba074",
   "metadata": {},
   "outputs": [
    {
     "data": {
      "text/plain": [
       "array([[1., 0., 0.],\n",
       "       [0., 1., 0.],\n",
       "       [0., 0., 1.]])"
      ]
     },
     "execution_count": 6,
     "metadata": {},
     "output_type": "execute_result"
    }
   ],
   "source": [
    "I"
   ]
  },
  {
   "cell_type": "code",
   "execution_count": 7,
   "id": "7a7ae504-bdd9-4477-9cb5-48c37a002ffd",
   "metadata": {},
   "outputs": [],
   "source": [
    "inverse_matrix = np.linalg.inv(I - N)"
   ]
  },
  {
   "cell_type": "code",
   "execution_count": 8,
   "id": "65644e62-0212-4f7b-823e-fe48f2c09039",
   "metadata": {},
   "outputs": [],
   "source": [
    "expected_times = np.sum(inverse_matrix, axis=0)"
   ]
  },
  {
   "cell_type": "code",
   "execution_count": 9,
   "id": "65facab5-563a-4807-8ce3-9b013008a9f2",
   "metadata": {},
   "outputs": [
    {
     "data": {
      "text/plain": [
       "array([10.,  7.,  4.])"
      ]
     },
     "execution_count": 9,
     "metadata": {},
     "output_type": "execute_result"
    }
   ],
   "source": [
    "expected_times"
   ]
  },
  {
   "cell_type": "code",
   "execution_count": null,
   "id": "64b4a338-7566-45f7-845a-dd887750936b",
   "metadata": {},
   "outputs": [],
   "source": []
  }
 ],
 "metadata": {
  "kernelspec": {
   "display_name": "Python 3 (ipykernel)",
   "language": "python",
   "name": "python3"
  },
  "language_info": {
   "codemirror_mode": {
    "name": "ipython",
    "version": 3
   },
   "file_extension": ".py",
   "mimetype": "text/x-python",
   "name": "python",
   "nbconvert_exporter": "python",
   "pygments_lexer": "ipython3",
   "version": "3.10.4"
  }
 },
 "nbformat": 4,
 "nbformat_minor": 5
}
