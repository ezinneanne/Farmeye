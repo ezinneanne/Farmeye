{
 "cells": [
  {
   "cell_type": "code",
   "execution_count": 1,
   "id": "964e7bda-b8ea-4e74-a39d-bfe05006339d",
   "metadata": {},
   "outputs": [],
   "source": [
    "import sklearn.datasets\n",
    "import numpy as np\n",
    "import matplotlib.pyplot as plt"
   ]
  },
  {
   "cell_type": "code",
   "execution_count": 2,
   "id": "8dbc89fe-4137-4903-a04a-3a46303cd4ea",
   "metadata": {},
   "outputs": [],
   "source": [
    "from sklearn.datasets import fetch_olivetti_faces\n",
    "olivetti_faces = fetch_olivetti_faces()\n",
    "faces = olivetti_faces"
   ]
  },
  {
   "cell_type": "code",
   "execution_count": 3,
   "id": "1d3166b5-dbca-46ed-b0aa-45da62054a3b",
   "metadata": {},
   "outputs": [],
   "source": [
    "Xall = faces.data.T\n",
    "Xsub = Xall[:,0:200]"
   ]
  },
  {
   "cell_type": "code",
   "execution_count": 4,
   "id": "6e10a01e-1009-4141-8572-dd6acdb69744",
   "metadata": {},
   "outputs": [],
   "source": [
    "xbar = np.mean(Xsub, axis=1)\n",
    "xbar = xbar.reshape(4096, 1)"
   ]
  },
  {
   "cell_type": "code",
   "execution_count": 7,
   "id": "6901388a-777f-4df5-a471-bfbe4fe50bd4",
   "metadata": {},
   "outputs": [],
   "source": [
    "C = np.cov(Xsub)"
   ]
  },
  {
   "cell_type": "code",
   "execution_count": 8,
   "id": "16ec6cc0-b04c-4b86-9296-5ab26e7a6da4",
   "metadata": {},
   "outputs": [],
   "source": [
    "V, P = np.linalg.eigh(C)"
   ]
  },
  {
   "cell_type": "code",
   "execution_count": 9,
   "id": "0b1a6f2e-d1ec-4bb6-8eba-d33266412d30",
   "metadata": {},
   "outputs": [
    {
     "name": "stdout",
     "output_type": "stream",
     "text": [
      "reconstructed_face shape: (4096,)\n"
     ]
    }
   ],
   "source": [
    "X_centered = Xsub - xbar  \n",
    "\n",
    "Ysub = P.T @ X_centered\n",
    "\n",
    "face_index = 0  \n",
    "y = Ysub[:, face_index]  \n",
    "\n",
    "reconstructed_face = P @ y + xbar.flatten()  \n",
    "\n",
    "print(\"reconstructed_face shape:\", reconstructed_face.shape) "
   ]
  },
  {
   "cell_type": "code",
   "execution_count": 10,
   "id": "49c5862e-cd36-46bd-b090-86839164eaf0",
   "metadata": {},
   "outputs": [
    {
     "name": "stdout",
     "output_type": "stream",
     "text": [
      "Are the original and reconstructed face close to each other? True\n"
     ]
    }
   ],
   "source": [
    "original_face = Xsub[:, face_index]\n",
    "print(\"Are the original and reconstructed face close to each other?\",\n",
    "      np.allclose(reconstructed_face, original_face))"
   ]
  },
  {
   "cell_type": "code",
   "execution_count": 11,
   "id": "60849dd3-4a8e-4cfc-b792-7abd97bd76be",
   "metadata": {},
   "outputs": [
    {
     "data": {
      "image/png": "[encoded data removed]",
      "text/plain": [
       "<Figure size 800x400 with 2 Axes>"
      ]
     },
     "metadata": {},
     "output_type": "display_data"
    }
   ],
   "source": [
    "plt.figure(figsize=(8, 4))\n",
    "\n",
    "# Plot the original face\n",
    "plt.subplot(1, 2, 1)\n",
    "plt.imshow(original_face.reshape(64, 64), cmap='gray')\n",
    "plt.title(\"Original Face\")\n",
    "plt.axis('off')\n",
    "\n",
    "# Plot the reconstructed face\n",
    "plt.subplot(1, 2, 2)\n",
    "plt.imshow(reconstructed_face.reshape(64, 64), cmap='gray')\n",
    "plt.title(\"Reconstructed Face\")\n",
    "plt.axis('off')\n",
    "\n",
    "plt.show()"
   ]
  },
  {
   "cell_type": "code",
   "execution_count": null,
   "id": "d1d4c945-1a24-4713-a566-461cc943a5f5",
   "metadata": {},
   "outputs": [],
   "source": []
  }
 ],
 "metadata": {
  "kernelspec": {
   "display_name": "Python 3 (ipykernel)",
   "language": "python",
   "name": "python3"
  },
  "language_info": {
   "codemirror_mode": {
    "name": "ipython",
    "version": 3
   },
   "file_extension": ".py",
   "mimetype": "text/x-python",
   "name": "python",
   "nbconvert_exporter": "python",
   "pygments_lexer": "ipython3",
   "version": "3.10.4"
  }
 },
 "nbformat": 4,
 "nbformat_minor": 5
}
