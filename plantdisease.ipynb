{
  "nbformat": 4,
  "nbformat_minor": 0,
  "metadata": {
    "colab": {
      "provenance": [],
      "authorship_tag": "ABX9TyNvve8mYtBlSP4ZZv7sxR3j",
      "include_colab_link": true
    },
    "kernelspec": {
      "name": "python3",
      "display_name": "Python 3"
    },
    "language_info": {
      "name": "python"
    }
  },
  "cells": [
    {
      "cell_type": "markdown",
      "metadata": {
        "id": "view-in-github",
        "colab_type": "text"
      },
      "source": [
        "<a href=\"https://colab.research.google.com/github/ezinneanne/Farmeye/blob/new_branch/plantdisease.ipynb\" target=\"_parent\"><img src=\"https://colab.research.google.com/assets/colab-badge.svg\" alt=\"Open In Colab\"/></a>"
      ]
    },
    {
      "cell_type": "code",
      "execution_count": null,
      "metadata": {
        "id": "6eXXqrhZV27J"
      },
      "outputs": [],
      "source": [
        "import os\n",
        "import numpy as np\n",
        "import shutil\n",
        "from sklearn.model_selection import train_test_split\n",
        "import tensorflow as tf\n",
        "from tensorflow.keras.preprocessing.image import ImageDataGenerator\n",
        "from tensorflow.keras import layers, models"
      ]
    },
    {
      "cell_type": "code",
      "source": [
        "# Set parameters\n",
        "IMG_SIZE = (224, 224)  # Resize images to 224x224\n",
        "BATCH_SIZE = 32\n",
        "DATA_DIR = '/kaggle/input/crop-pest-and-disease-detection'  # Path to the dataset\n",
        "OUTPUT_DIR = '/kaggle/working/split_data'  # Directory for split data"
      ],
      "metadata": {
        "id": "NUwpSBtWVkyb"
      },
      "execution_count": null,
      "outputs": []
    },
    {
      "cell_type": "code",
      "source": [
        "# Step 1: Organize data into train and validation directories manually\n",
        "# def split_data(data_dir, output_dir, val_size=0.2):\n",
        "#     # Create necessary directories for training and validation sets\n",
        "#     train_dir = os.path.join(output_dir, 'train')\n",
        "#     val_dir = os.path.join(output_dir, 'val')\n",
        "#     if not os.path.exists(train_dir):\n",
        "#         os.makedirs(train_dir)\n",
        "#     if not os.path.exists(val_dir):\n",
        "#         os.makedirs(val_dir)\n",
        "\n",
        "#     # Iterate through each class folder\n",
        "#     for class_name in os.listdir(data_dir):\n",
        "#         class_folder = os.path.join(data_dir, class_name)\n",
        "\n",
        "#         if os.path.isdir(class_folder):  # If it's a folder (class)\n",
        "#             # Create subfolders in train and validation directories\n",
        "#             os.makedirs(os.path.join(train_dir, class_name), exist_ok=True)\n",
        "#             os.makedirs(os.path.join(val_dir, class_name), exist_ok=True)\n",
        "\n",
        "#             # Get all image file paths\n",
        "#             image_paths = [os.path.join(class_folder, f) for f in os.listdir(class_folder)]\n",
        "\n",
        "#             # Split data into train and validation sets\n",
        "#             train_paths, val_paths = train_test_split(image_paths, test_size=val_size, random_state=42)\n",
        "\n",
        "#             # Copy files to respective directories instead of moving them\n",
        "#             for path in train_paths:\n",
        "#                 shutil.copy(path, os.path.join(train_dir, class_name, os.path.basename(path)))\n",
        "#             for path in val_paths:\n",
        "#                 shutil.copy(path, os.path.join(val_dir, class_name, os.path.basename(path)))\n",
        "\n",
        "# split_data(DATA_DIR, OUTPUT_DIR)"
      ],
      "metadata": {
        "id": "fpfN03U1VrlD"
      },
      "execution_count": null,
      "outputs": []
    },
    {
      "cell_type": "code",
      "source": [
        "# Step 2: Create ImageDataGenerators for data augmentation and preprocessing\n",
        "train_datagen = ImageDataGenerator(\n",
        "    rescale=1./255,               # Normalize pixel values to [0,1]\n",
        "    rotation_range=40,\n",
        "    width_shift_range=0.2,\n",
        "    height_shift_range=0.2,\n",
        "    shear_range=0.2,\n",
        "    zoom_range=0.2,\n",
        "    horizontal_flip=True,\n",
        "    fill_mode='nearest')\n",
        "\n",
        "validation_datagen = ImageDataGenerator(rescale=1./255)"
      ],
      "metadata": {
        "id": "I84avfhpWiiN"
      },
      "execution_count": null,
      "outputs": []
    },
    {
      "cell_type": "code",
      "source": [
        "# Step 3: Create data generators for training and validation sets\n",
        "train_generator = train_datagen.flow_from_directory(\n",
        "    os.path.join(OUTPUT_DIR, 'train'),  # Updated with the split data path\n",
        "    target_size=IMG_SIZE,\n",
        "    batch_size=BATCH_SIZE,\n",
        "    class_mode='categorical'  # 'categorical' because we have multiple classes\n",
        ")\n",
        "\n",
        "validation_generator = validation_datagen.flow_from_directory(\n",
        "    os.path.join(OUTPUT_DIR, 'val'),  # Updated with the split data path\n",
        "    target_size=IMG_SIZE,\n",
        "    batch_size=BATCH_SIZE,\n",
        "    class_mode='categorical'\n",
        ")"
      ],
      "metadata": {
        "id": "Xxucoxc3WoF7"
      },
      "execution_count": null,
      "outputs": []
    }
  ]
}