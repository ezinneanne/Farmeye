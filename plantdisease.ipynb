{
  "nbformat": 4,
  "nbformat_minor": 0,
  "metadata": {
    "colab": {
      "provenance": [],
      "include_colab_link": true
    },
    "kernelspec": {
      "name": "python3",
      "display_name": "Python 3"
    },
    "language_info": {
      "name": "python"
    }
  },
  "cells": [
    {
      "cell_type": "markdown",
      "metadata": {
        "id": "view-in-github",
        "colab_type": "text"
      },
      "source": [
        "<a href=\"https://colab.research.google.com/github/ezinneanne/Farmeye/blob/new_branch/plantdisease.ipynb\" target=\"_parent\"><img src=\"https://colab.research.google.com/assets/colab-badge.svg\" alt=\"Open In Colab\"/></a>"
      ]
    },
    {
      "cell_type": "code",
      "source": [
        "from google.colab import drive\n",
        "drive.mount('/content/drive')\n",
        "#drive.mount(\"/content/drive\", force_remount=True)"
      ],
      "metadata": {
        "colab": {
          "base_uri": "https://localhost:8080/"
        },
        "id": "6VbJU9c3A4kG",
        "outputId": "fa30d1f2-9e04-47fa-9f6a-9255ebacc3c2"
      },
      "execution_count": 2,
      "outputs": [
        {
          "output_type": "stream",
          "name": "stdout",
          "text": [
            "Mounted at /content/drive\n"
          ]
        }
      ]
    },
    {
      "cell_type": "code",
      "execution_count": 3,
      "metadata": {
        "id": "6eXXqrhZV27J"
      },
      "outputs": [],
      "source": [
        "# 🌐 os: For interacting with the operating system, like working with file paths and directories\n",
        "import os\n",
        "\n",
        "# 📁 shutil: For copying, moving, or deleting files and directories\n",
        "import shutil\n",
        "\n",
        "# 🔢 numpy: For handling numerical operations and arrays (used here for data manipulation)\n",
        "import numpy as np\n",
        "\n",
        "# 📊 matplotlib.pyplot: For plotting graphs like accuracy/loss curves to visualize model performance\n",
        "import matplotlib.pyplot as plt\n",
        "\n",
        "# 🔄 train_test_split: For splitting datasets into training and validation sets randomly\n",
        "from sklearn.model_selection import train_test_split\n",
        "\n",
        "# 🤖 tensorflow: The main machine learning library we're using to build and train deep learning models\n",
        "import tensorflow as tf\n",
        "\n",
        "# 🧰 ImageDataGenerator: For loading images and applying real-time data augmentation (like flipping or rotating)\n",
        "from tensorflow.keras.preprocessing.image import ImageDataGenerator\n",
        "\n",
        "# 🏗️ layers: To build the layers of the neural network (like Dense, Dropout, etc.)\n",
        "# 🏗️ models: To define and compile the overall neural network model\n",
        "from tensorflow.keras import layers, models"
      ]
    },
    {
      "cell_type": "code",
      "source": [
        "# Set parameters\n",
        "\n",
        "# Path to the dataset (CATEGORY A inside Google Drive)\n",
        "DATA_DIR = '/content/drive/MyDrive/image_dataset/CATEGORY A'\n",
        "\n",
        "# Path to the output directory where the split (train/val) data will be stored in Colab's local storage\n",
        "OUTPUT_DIR = '/content/split_data'\n",
        "\n",
        "# Path to save the trained model back to Google Drive\n",
        "MODEL_SAVE_PATH = '/content/drive/MyDrive/crop_pest_disease_classifier.keras'\n",
        "\n",
        "# Resize all images to 224x224 pixels (standard size for many pretrained models)\n",
        "IMG_SIZE = (224, 224)\n",
        "\n",
        "# Number of images processed together in one batch during training\n",
        "BATCH_SIZE = 32\n",
        "\n",
        "# Create the output directory if it doesn't already exist\n",
        "os.makedirs(OUTPUT_DIR, exist_ok=True)"
      ],
      "metadata": {
        "id": "NUwpSBtWVkyb"
      },
      "execution_count": 5,
      "outputs": []
    },
    {
      "cell_type": "code",
      "source": [
        "# Debugging cell\n",
        "os.listdir('/content/drive/MyDrive')"
      ],
      "metadata": {
        "colab": {
          "base_uri": "https://localhost:8080/"
        },
        "id": "OuecunDxIFp2",
        "outputId": "2ca85fec-11bb-42ee-afd2-e87f385fc81b"
      },
      "execution_count": 6,
      "outputs": [
        {
          "output_type": "execute_result",
          "data": {
            "text/plain": [
              "['Getting started.pdf', 'TOM2024.zip', 'image_dataset']"
            ]
          },
          "metadata": {},
          "execution_count": 6
        }
      ]
    },
    {
      "cell_type": "code",
      "source": [
        "import glob"
      ],
      "metadata": {
        "id": "DhxZ7JoTW-ou"
      },
      "execution_count": 7,
      "outputs": []
    },
    {
      "cell_type": "code",
      "source": [
        "def split_data(data_dir, output_dir, val_size=0.2):\n",
        "    \"\"\"\n",
        "    Split the dataset into training and validation sets while preserving folder structure.\n",
        "    \"\"\"\n",
        "    train_dir = os.path.join(output_dir, 'train')\n",
        "    val_dir = os.path.join(output_dir, 'val')\n",
        "    os.makedirs(train_dir, exist_ok=True)\n",
        "    os.makedirs(val_dir, exist_ok=True)\n",
        "\n",
        "    print(\"📁 Starting data split...\")\n",
        "\n",
        "    # Loop through each language folder (CATA-English, CATA-French)\n",
        "    for language_folder in os.listdir(data_dir):\n",
        "        language_path = os.path.join(data_dir, language_folder)\n",
        "\n",
        "        if not os.path.isdir(language_path):\n",
        "            continue  # Skip if it's not a folder\n",
        "\n",
        "        print(f\"🔍 Processing language folder: {language_folder}\")\n",
        "\n",
        "        # Loop through each class (onion_diseases, maize_pests, etc.)\n",
        "        for class_name in os.listdir(language_path):\n",
        "            class_folder = os.path.join(language_path, class_name)\n",
        "\n",
        "            if not os.path.isdir(class_folder):\n",
        "                continue  # Skip if it's not a folder\n",
        "\n",
        "            print(f\"  ➡️ Class: {class_name}\")\n",
        "\n",
        "            # ✅ Recursively get all image paths from subfolders\n",
        "            image_paths = glob.glob(os.path.join(class_folder, '**', '*.*'), recursive=True)\n",
        "            image_paths = [path for path in image_paths if path.lower().endswith(('.png', '.jpg', '.jpeg'))]\n",
        "\n",
        "            print(f\"    Found {len(image_paths)} images.\")\n",
        "\n",
        "            if len(image_paths) == 0:\n",
        "                print(f\"    ⚠️ No images found for {class_name}. Skipping...\")\n",
        "                continue  # Skip this class if no images are found\n",
        "\n",
        "            # Split into training and validation sets\n",
        "            train_paths, val_paths = train_test_split(image_paths, test_size=val_size, random_state=42)\n",
        "\n",
        "            # Create corresponding folders in train and val directories\n",
        "            os.makedirs(os.path.join(train_dir, class_name), exist_ok=True)\n",
        "            os.makedirs(os.path.join(val_dir, class_name), exist_ok=True)\n",
        "\n",
        "            # Copy training images\n",
        "            for path in train_paths:\n",
        "                shutil.copy(path, os.path.join(train_dir, class_name, os.path.basename(path)))\n",
        "\n",
        "            # Copy validation images\n",
        "            for path in val_paths:\n",
        "                shutil.copy(path, os.path.join(val_dir, class_name, os.path.basename(path)))\n",
        "\n",
        "            print(f\"    ✅ {len(train_paths)} training and {len(val_paths)} validation images copied for class '{class_name}'.\")\n",
        "\n",
        "    print(\"✅ Data split completed!\")\n",
        "\n",
        "split_data(DATA_DIR, OUTPUT_DIR)"
      ],
      "metadata": {
        "id": "fpfN03U1VrlD",
        "colab": {
          "base_uri": "https://localhost:8080/"
        },
        "outputId": "e3d7c784-209a-442d-e332-133c9b29a29a"
      },
      "execution_count": 8,
      "outputs": [
        {
          "output_type": "stream",
          "name": "stdout",
          "text": [
            "📁 Starting data split...\n",
            "🔍 Processing language folder: CATA-French\n",
            "  ➡️ Class: onion_diseases\n",
            "    Found 2165 images.\n",
            "    ✅ 1732 training and 433 validation images copied for class 'onion_diseases'.\n",
            "  ➡️ Class: tomato_pests\n",
            "    Found 317 images.\n",
            "    ✅ 253 training and 64 validation images copied for class 'tomato_pests'.\n",
            "  ➡️ Class: tomato_diseases\n",
            "    Found 4162 images.\n",
            "    ✅ 3329 training and 833 validation images copied for class 'tomato_diseases'.\n",
            "  ➡️ Class: onion_pests\n",
            "    Found 879 images.\n",
            "    ✅ 703 training and 176 validation images copied for class 'onion_pests'.\n",
            "  ➡️ Class: maize_pests_activities\n",
            "    Found 616 images.\n",
            "    ✅ 492 training and 124 validation images copied for class 'maize_pests_activities'.\n",
            "  ➡️ Class: maize_diseases\n",
            "    Found 3517 images.\n",
            "    ✅ 2813 training and 704 validation images copied for class 'maize_diseases'.\n",
            "  ➡️ Class: maize_pests\n",
            "    Found 604 images.\n",
            "    ✅ 483 training and 121 validation images copied for class 'maize_pests'.\n",
            "🔍 Processing language folder: CATA-English\n",
            "  ➡️ Class: maize_diseases\n",
            "    Found 3527 images.\n",
            "    ✅ 2821 training and 706 validation images copied for class 'maize_diseases'.\n",
            "  ➡️ Class: tomato_diseases\n",
            "    Found 4152 images.\n",
            "    ✅ 3321 training and 831 validation images copied for class 'tomato_diseases'.\n",
            "  ➡️ Class: onion_diseases\n",
            "    Found 2165 images.\n",
            "    ✅ 1732 training and 433 validation images copied for class 'onion_diseases'.\n",
            "  ➡️ Class: onion_pests\n",
            "    Found 879 images.\n",
            "    ✅ 703 training and 176 validation images copied for class 'onion_pests'.\n",
            "  ➡️ Class: maize_pests_activities\n",
            "    Found 616 images.\n",
            "    ✅ 492 training and 124 validation images copied for class 'maize_pests_activities'.\n",
            "  ➡️ Class: maize_pests\n",
            "    Found 604 images.\n",
            "    ✅ 483 training and 121 validation images copied for class 'maize_pests'.\n",
            "  ➡️ Class: tomato_pests\n",
            "    Found 297 images.\n",
            "    ✅ 237 training and 60 validation images copied for class 'tomato_pests'.\n",
            "✅ Data split completed!\n"
          ]
        }
      ]
    },
    {
      "cell_type": "code",
      "source": [
        "# Step 2: Create ImageDataGenerators for data augmentation and preprocessing\n",
        "train_datagen = ImageDataGenerator(\n",
        "    rescale=1./255,               # Normalize pixel values to [0,1]\n",
        "    rotation_range=40,\n",
        "    width_shift_range=0.2,\n",
        "    height_shift_range=0.2,\n",
        "    shear_range=0.2,\n",
        "    zoom_range=0.2,\n",
        "    horizontal_flip=True,\n",
        "    fill_mode='nearest')\n",
        "\n",
        "validation_datagen = ImageDataGenerator(rescale=1./255)"
      ],
      "metadata": {
        "id": "I84avfhpWiiN"
      },
      "execution_count": 9,
      "outputs": []
    },
    {
      "cell_type": "code",
      "source": [
        "# Step 3: Create data generators for training and validation sets\n",
        "train_generator = train_datagen.flow_from_directory(\n",
        "    os.path.join(OUTPUT_DIR, 'train'),  # Updated with the split data path\n",
        "    target_size=IMG_SIZE,\n",
        "    batch_size=BATCH_SIZE,\n",
        "    class_mode='categorical'  # 'categorical' because we have multiple classes\n",
        ")\n",
        "\n",
        "validation_generator = validation_datagen.flow_from_directory(\n",
        "    os.path.join(OUTPUT_DIR, 'val'),  # Updated with the split data path\n",
        "    target_size=IMG_SIZE,\n",
        "    batch_size=BATCH_SIZE,\n",
        "    class_mode='categorical'\n",
        ")"
      ],
      "metadata": {
        "id": "Xxucoxc3WoF7",
        "colab": {
          "base_uri": "https://localhost:8080/"
        },
        "outputId": "3ae840f8-f72c-41b8-8e52-a87fee637593"
      },
      "execution_count": 10,
      "outputs": [
        {
          "output_type": "stream",
          "name": "stdout",
          "text": [
            "Found 11760 images belonging to 7 classes.\n",
            "Found 4405 images belonging to 7 classes.\n"
          ]
        }
      ]
    },
    {
      "cell_type": "code",
      "source": [
        "# Step 4: Build the Model using EfficientNetB0 for transfer learning\n",
        "base_model = tf.keras.applications.EfficientNetB0(\n",
        "    weights='imagenet', include_top=False, input_shape=(224, 224, 3)\n",
        ")\n",
        "base_model.trainable = False  # Freeze the base model layers\n",
        "\n",
        "# Build the model on top of EfficientNetB0\n",
        "model = tf.keras.Sequential([\n",
        "    base_model,\n",
        "    tf.keras.layers.GlobalAveragePooling2D(),\n",
        "    tf.keras.layers.Dropout(0.5),\n",
        "    tf.keras.layers.Dense(256, activation='relu'),\n",
        "    tf.keras.layers.Dense(train_generator.num_classes, activation='softmax')\n",
        "])\n",
        "\n",
        "# Compile the model\n",
        "model.compile(optimizer='adam', loss='categorical_crossentropy', metrics=['accuracy'])"
      ],
      "metadata": {
        "id": "zjSzarPyCMws",
        "colab": {
          "base_uri": "https://localhost:8080/"
        },
        "outputId": "3a55baf1-48d2-484e-c4c8-49872e5c9ad3"
      },
      "execution_count": 11,
      "outputs": [
        {
          "output_type": "stream",
          "name": "stdout",
          "text": [
            "Downloading data from https://storage.googleapis.com/keras-applications/efficientnetb0_notop.h5\n",
            "\u001b[1m16705208/16705208\u001b[0m \u001b[32m━━━━━━━━━━━━━━━━━━━━\u001b[0m\u001b[37m\u001b[0m \u001b[1m0s\u001b[0m 0us/step\n"
          ]
        }
      ]
    },
    {
      "cell_type": "code",
      "source": [
        "# Step 5: Train model with progress\n",
        "print(\"🚀 Starting training...\")\n",
        "history = model.fit(\n",
        "    train_generator,\n",
        "    steps_per_epoch=train_generator.samples // train_generator.batch_size,\n",
        "    epochs=10,\n",
        "    validation_data=validation_generator,\n",
        "    validation_steps=validation_generator.samples // validation_generator.batch_size\n",
        ")\n",
        "print(\"🎉 Training completed!\")"
      ],
      "metadata": {
        "id": "KMS8PvoCCgSW",
        "colab": {
          "base_uri": "https://localhost:8080/"
        },
        "outputId": "1f1aee12-7620-480d-f8c4-43363bf4437d"
      },
      "execution_count": 12,
      "outputs": [
        {
          "metadata": {
            "tags": null
          },
          "name": "stdout",
          "output_type": "stream",
          "text": [
            "🚀 Starting training...\n"
          ]
        },
        {
          "metadata": {
            "tags": null
          },
          "name": "stderr",
          "output_type": "stream",
          "text": [
            "/usr/local/lib/python3.11/dist-packages/keras/src/trainers/data_adapters/py_dataset_adapter.py:121: UserWarning: Your `PyDataset` class should call `super().__init__(**kwargs)` in its constructor. `**kwargs` can include `workers`, `use_multiprocessing`, `max_queue_size`. Do not pass these arguments to `fit()`, as they will be ignored.\n",
            "  self._warn_if_super_not_called()\n"
          ]
        },
        {
          "metadata": {
            "tags": null
          },
          "name": "stdout",
          "output_type": "stream",
          "text": [
            "Epoch 1/10\n",
            "\u001b[1m367/367\u001b[0m \u001b[32m━━━━━━━━━━━━━━━━━━━━\u001b[0m\u001b[37m\u001b[0m \u001b[1m1448s\u001b[0m 4s/step - accuracy: 0.3131 - loss: 1.6592 - val_accuracy: 0.3367 - val_loss: 1.6294\n",
            "Epoch 2/10\n",
            "\u001b[1m  1/367\u001b[0m \u001b[37m━━━━━━━━━━━━━━━━━━━━\u001b[0m \u001b[1m13:40\u001b[0m 2s/step - accuracy: 0.2812 - loss: 1.5695"
          ]
        },
        {
          "metadata": {
            "tags": null
          },
          "name": "stderr",
          "output_type": "stream",
          "text": [
            "/usr/local/lib/python3.11/dist-packages/keras/src/trainers/epoch_iterator.py:107: UserWarning: Your input ran out of data; interrupting training. Make sure that your dataset or generator can generate at least `steps_per_epoch * epochs` batches. You may need to use the `.repeat()` function when building your dataset.\n",
            "  self._interrupted_warning()\n"
          ]
        },
        {
          "output_type": "stream",
          "name": "stdout",
          "text": [
            "\u001b[1m367/367\u001b[0m \u001b[32m━━━━━━━━━━━━━━━━━━━━\u001b[0m\u001b[37m\u001b[0m \u001b[1m377s\u001b[0m 1s/step - accuracy: 0.2812 - loss: 1.5695 - val_accuracy: 0.3367 - val_loss: 1.6225\n",
            "Epoch 3/10\n",
            "\u001b[1m367/367\u001b[0m \u001b[32m━━━━━━━━━━━━━━━━━━━━\u001b[0m\u001b[37m\u001b[0m \u001b[1m1412s\u001b[0m 4s/step - accuracy: 0.3346 - loss: 1.6222 - val_accuracy: 0.3365 - val_loss: 1.6196\n",
            "Epoch 4/10\n",
            "\u001b[1m367/367\u001b[0m \u001b[32m━━━━━━━━━━━━━━━━━━━━\u001b[0m\u001b[37m\u001b[0m \u001b[1m335s\u001b[0m 908ms/step - accuracy: 0.4062 - loss: 1.6604 - val_accuracy: 0.3365 - val_loss: 1.6213\n",
            "Epoch 5/10\n",
            "\u001b[1m367/367\u001b[0m \u001b[32m━━━━━━━━━━━━━━━━━━━━\u001b[0m\u001b[37m\u001b[0m \u001b[1m1398s\u001b[0m 4s/step - accuracy: 0.3342 - loss: 1.6235 - val_accuracy: 0.3371 - val_loss: 1.6241\n",
            "Epoch 6/10\n",
            "\u001b[1m367/367\u001b[0m \u001b[32m━━━━━━━━━━━━━━━━━━━━\u001b[0m\u001b[37m\u001b[0m \u001b[1m335s\u001b[0m 906ms/step - accuracy: 0.3438 - loss: 1.4451 - val_accuracy: 0.3360 - val_loss: 1.6248\n",
            "Epoch 7/10\n",
            "\u001b[1m367/367\u001b[0m \u001b[32m━━━━━━━━━━━━━━━━━━━━\u001b[0m\u001b[37m\u001b[0m \u001b[1m1405s\u001b[0m 4s/step - accuracy: 0.3343 - loss: 1.6155 - val_accuracy: 0.3369 - val_loss: 1.6124\n",
            "Epoch 8/10\n",
            "\u001b[1m367/367\u001b[0m \u001b[32m━━━━━━━━━━━━━━━━━━━━\u001b[0m\u001b[37m\u001b[0m \u001b[1m333s\u001b[0m 903ms/step - accuracy: 0.2500 - loss: 1.6393 - val_accuracy: 0.3371 - val_loss: 1.6135\n",
            "Epoch 9/10\n",
            "\u001b[1m367/367\u001b[0m \u001b[32m━━━━━━━━━━━━━━━━━━━━\u001b[0m\u001b[37m\u001b[0m \u001b[1m1344s\u001b[0m 4s/step - accuracy: 0.3354 - loss: 1.6162 - val_accuracy: 0.3362 - val_loss: 1.6152\n",
            "Epoch 10/10\n",
            "\u001b[1m367/367\u001b[0m \u001b[32m━━━━━━━━━━━━━━━━━━━━\u001b[0m\u001b[37m\u001b[0m \u001b[1m328s\u001b[0m 891ms/step - accuracy: 0.3438 - loss: 1.8463 - val_accuracy: 0.3367 - val_loss: 1.6146\n",
            "🎉 Training completed!\n"
          ]
        }
      ]
    },
    {
      "cell_type": "code",
      "source": [
        "# Step 6: Plot accuracy and loss\n",
        "def plot_history(history):\n",
        "    acc = history.history['accuracy']\n",
        "    val_acc = history.history['val_accuracy']\n",
        "    loss = history.history['loss']\n",
        "    val_loss = history.history['val_loss']\n",
        "    epochs = range(1, len(acc) + 1)\n",
        "\n",
        "    plt.figure(figsize=(12, 5))\n",
        "\n",
        "    plt.subplot(1, 2, 1)\n",
        "    plt.plot(epochs, acc, 'b', label='Training Accuracy')\n",
        "    plt.plot(epochs, val_acc, 'r', label='Validation Accuracy')\n",
        "    plt.title('Training and Validation Accuracy')\n",
        "    plt.legend()\n",
        "\n",
        "    plt.subplot(1, 2, 2)\n",
        "    plt.plot(epochs, loss, 'b', label='Training Loss')\n",
        "    plt.plot(epochs, val_loss, 'r', label='Validation Loss')\n",
        "    plt.title('Training and Validation Loss')\n",
        "    plt.legend()\n",
        "\n",
        "    plt.show()\n",
        "\n",
        "plot_history(history)"
      ],
      "metadata": {
        "colab": {
          "base_uri": "https://localhost:8080/",
          "height": 176
        },
        "id": "vXlrA1dLvmbm",
        "outputId": "2ae65227-617f-4ee4-e03e-76566c334605"
      },
      "execution_count": 1,
      "outputs": [
        {
          "output_type": "error",
          "ename": "NameError",
          "evalue": "name 'history' is not defined",
          "traceback": [
            "\u001b[0;31m---------------------------------------------------------------------------\u001b[0m",
            "\u001b[0;31mNameError\u001b[0m                                 Traceback (most recent call last)",
            "\u001b[0;32m<ipython-input-1-6f51504541b0>\u001b[0m in \u001b[0;36m<cell line: 0>\u001b[0;34m()\u001b[0m\n\u001b[1;32m     23\u001b[0m     \u001b[0mplt\u001b[0m\u001b[0;34m.\u001b[0m\u001b[0mshow\u001b[0m\u001b[0;34m(\u001b[0m\u001b[0;34m)\u001b[0m\u001b[0;34m\u001b[0m\u001b[0;34m\u001b[0m\u001b[0m\n\u001b[1;32m     24\u001b[0m \u001b[0;34m\u001b[0m\u001b[0m\n\u001b[0;32m---> 25\u001b[0;31m \u001b[0mplot_history\u001b[0m\u001b[0;34m(\u001b[0m\u001b[0mhistory\u001b[0m\u001b[0;34m)\u001b[0m\u001b[0;34m\u001b[0m\u001b[0;34m\u001b[0m\u001b[0m\n\u001b[0m",
            "\u001b[0;31mNameError\u001b[0m: name 'history' is not defined"
          ]
        }
      ]
    },
    {
      "cell_type": "code",
      "source": [
        "# Step 7: Save model to Google Drive\n",
        "print(f\"💾 Saving model to {MODEL_SAVE_PATH}\")\n",
        "model.save(MODEL_SAVE_PATH)\n",
        "print(\"✅ Model saved!\")"
      ],
      "metadata": {
        "id": "uKvbIvdfv8Ec"
      },
      "execution_count": null,
      "outputs": []
    }
  ]
}