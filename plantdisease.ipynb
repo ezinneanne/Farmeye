{
  "nbformat": 4,
  "nbformat_minor": 0,
  "metadata": {
    "colab": {
      "provenance": [],
      "include_colab_link": true
    },
    "kernelspec": {
      "name": "python3",
      "display_name": "Python 3"
    },
    "language_info": {
      "name": "python"
    }
  },
  "cells": [
    {
      "cell_type": "markdown",
      "metadata": {
        "id": "view-in-github",
        "colab_type": "text"
      },
      "source": [
        "<a href=\"https://colab.research.google.com/github/ezinneanne/Farmeye/blob/new_branch/plantdisease.ipynb\" target=\"_parent\"><img src=\"https://colab.research.google.com/assets/colab-badge.svg\" alt=\"Open In Colab\"/></a>"
      ]
    },
    {
      "cell_type": "code",
      "source": [
        "from google.colab import drive\n",
        "#drive.mount('/content/drive')\n",
        "drive.mount(\"/content/drive\", force_remount=True)"
      ],
      "metadata": {
        "colab": {
          "base_uri": "https://localhost:8080/"
        },
        "id": "6VbJU9c3A4kG",
        "outputId": "3b12dd4b-5ac5-4d31-847a-e8903e578db9"
      },
      "execution_count": 8,
      "outputs": [
        {
          "output_type": "stream",
          "name": "stdout",
          "text": [
            "Mounted at /content/drive\n"
          ]
        }
      ]
    },
    {
      "cell_type": "code",
      "execution_count": 11,
      "metadata": {
        "id": "6eXXqrhZV27J"
      },
      "outputs": [],
      "source": [
        "# 🌐 os: For interacting with the operating system, like working with file paths and directories\n",
        "import os\n",
        "\n",
        "# 📁 shutil: For copying, moving, or deleting files and directories\n",
        "import shutil\n",
        "\n",
        "# 🔢 numpy: For handling numerical operations and arrays (used here for data manipulation)\n",
        "import numpy as np\n",
        "\n",
        "# 📊 matplotlib.pyplot: For plotting graphs like accuracy/loss curves to visualize model performance\n",
        "import matplotlib.pyplot as plt\n",
        "\n",
        "# 🔄 train_test_split: For splitting datasets into training and validation sets randomly\n",
        "from sklearn.model_selection import train_test_split\n",
        "\n",
        "# 🤖 tensorflow: The main machine learning library we're using to build and train deep learning models\n",
        "import tensorflow as tf\n",
        "\n",
        "# 🧰 ImageDataGenerator: For loading images and applying real-time data augmentation (like flipping or rotating)\n",
        "from tensorflow.keras.preprocessing.image import ImageDataGenerator\n",
        "\n",
        "# 🏗️ layers: To build the layers of the neural network (like Dense, Dropout, etc.)\n",
        "# 🏗️ models: To define and compile the overall neural network model\n",
        "from tensorflow.keras import layers, models"
      ]
    },
    {
      "cell_type": "code",
      "source": [
        "# Set parameters\n",
        "\n",
        "# Path to the dataset (CATEGORY A inside Google Drive)\n",
        "DATA_DIR = '/content/drive/MyDrive/image_dataset/CATEGORY A'\n",
        "\n",
        "# Path to the output directory where the split (train/val) data will be stored in Colab's local storage\n",
        "OUTPUT_DIR = '/content/split_data'\n",
        "\n",
        "# Path to save the trained model back to Google Drive\n",
        "MODEL_SAVE_PATH = '/content/drive/MyDrive/crop_pest_disease_classifier.keras'\n",
        "\n",
        "# Resize all images to 224x224 pixels (standard size for many pretrained models)\n",
        "IMG_SIZE = (224, 224)\n",
        "\n",
        "# Number of images processed together in one batch during training\n",
        "BATCH_SIZE = 32\n",
        "\n",
        "# Create the output directory if it doesn't already exist\n",
        "os.makedirs(OUTPUT_DIR, exist_ok=True)"
      ],
      "metadata": {
        "id": "NUwpSBtWVkyb"
      },
      "execution_count": 12,
      "outputs": []
    },
    {
      "cell_type": "code",
      "source": [
        "# Debugging cell\n",
        "os.listdir('/content/drive/MyDrive')"
      ],
      "metadata": {
        "id": "OuecunDxIFp2",
        "outputId": "f6b6d2b8-c80d-46db-be5b-1ba280db813c",
        "colab": {
          "base_uri": "https://localhost:8080/"
        }
      },
      "execution_count": 9,
      "outputs": [
        {
          "output_type": "execute_result",
          "data": {
            "text/plain": [
              "['Getting started.pdf', 'image_dataset']"
            ]
          },
          "metadata": {},
          "execution_count": 9
        }
      ]
    },
    {
      "cell_type": "code",
      "source": [
        "import glob"
      ],
      "metadata": {
        "id": "DhxZ7JoTW-ou"
      },
      "execution_count": 15,
      "outputs": []
    },
    {
      "cell_type": "code",
      "source": [
        "def split_data(data_dir, output_dir, val_size=0.2):\n",
        "    \"\"\"\n",
        "    Split the dataset into training and validation sets while preserving folder structure.\n",
        "    \"\"\"\n",
        "    train_dir = os.path.join(output_dir, 'train')\n",
        "    val_dir = os.path.join(output_dir, 'val')\n",
        "    os.makedirs(train_dir, exist_ok=True)\n",
        "    os.makedirs(val_dir, exist_ok=True)\n",
        "\n",
        "    print(\"📁 Starting data split...\")\n",
        "\n",
        "    # Loop through each language folder (CATA-English, CATA-French)\n",
        "    for language_folder in os.listdir(data_dir):\n",
        "        language_path = os.path.join(data_dir, language_folder)\n",
        "\n",
        "        if not os.path.isdir(language_path):\n",
        "            continue  # Skip if it's not a folder\n",
        "\n",
        "        print(f\"🔍 Processing language folder: {language_folder}\")\n",
        "\n",
        "        # Loop through each class (onion_diseases, maize_pests, etc.)\n",
        "        for class_name in os.listdir(language_path):\n",
        "            class_folder = os.path.join(language_path, class_name)\n",
        "\n",
        "            if not os.path.isdir(class_folder):\n",
        "                continue  # Skip if it's not a folder\n",
        "\n",
        "            print(f\"  ➡️ Class: {class_name}\")\n",
        "\n",
        "            # ✅ Recursively get all image paths from subfolders\n",
        "            image_paths = glob.glob(os.path.join(class_folder, '**', '*.*'), recursive=True)\n",
        "            image_paths = [path for path in image_paths if path.lower().endswith(('.png', '.jpg', '.jpeg'))]\n",
        "\n",
        "            print(f\"    Found {len(image_paths)} images.\")\n",
        "\n",
        "            if len(image_paths) == 0:\n",
        "                print(f\"    ⚠️ No images found for {class_name}. Skipping...\")\n",
        "                continue  # Skip this class if no images are found\n",
        "\n",
        "            # Split into training and validation sets\n",
        "            train_paths, val_paths = train_test_split(image_paths, test_size=val_size, random_state=42)\n",
        "\n",
        "            # Create corresponding folders in train and val directories\n",
        "            os.makedirs(os.path.join(train_dir, class_name), exist_ok=True)\n",
        "            os.makedirs(os.path.join(val_dir, class_name), exist_ok=True)\n",
        "\n",
        "            # Copy training images\n",
        "            for path in train_paths:\n",
        "                shutil.copy(path, os.path.join(train_dir, class_name, os.path.basename(path)))\n",
        "\n",
        "            # Copy validation images\n",
        "            for path in val_paths:\n",
        "                shutil.copy(path, os.path.join(val_dir, class_name, os.path.basename(path)))\n",
        "\n",
        "            print(f\"    ✅ {len(train_paths)} training and {len(val_paths)} validation images copied for class '{class_name}'.\")\n",
        "\n",
        "    print(\"✅ Data split completed!\")\n",
        "\n",
        "split_data(DATA_DIR, OUTPUT_DIR)"
      ],
      "metadata": {
        "id": "fpfN03U1VrlD",
        "colab": {
          "base_uri": "https://localhost:8080/"
        },
        "outputId": "785bca34-44c9-42ad-8a7b-7e2a68b054d8"
      },
      "execution_count": null,
      "outputs": [
        {
          "metadata": {
            "tags": null
          },
          "name": "stdout",
          "output_type": "stream",
          "text": [
            "📁 Starting data split...\n",
            "🔍 Processing language folder: CATA-French\n",
            "  ➡️ Class: onion_diseases\n",
            "    Found 2165 images.\n",
            "    ✅ 1732 training and 433 validation images copied for class 'onion_diseases'.\n",
            "  ➡️ Class: tomato_pests\n",
            "    Found 317 images.\n",
            "    ✅ 253 training and 64 validation images copied for class 'tomato_pests'.\n",
            "  ➡️ Class: tomato_diseases\n",
            "    Found 4162 images.\n",
            "    ✅ 3329 training and 833 validation images copied for class 'tomato_diseases'.\n",
            "  ➡️ Class: onion_pests\n",
            "    Found 879 images.\n",
            "    ✅ 703 training and 176 validation images copied for class 'onion_pests'.\n",
            "  ➡️ Class: maize_pests_activities\n",
            "    Found 616 images.\n",
            "    ✅ 492 training and 124 validation images copied for class 'maize_pests_activities'.\n",
            "  ➡️ Class: maize_diseases\n",
            "    Found 3517 images.\n",
            "    ✅ 2813 training and 704 validation images copied for class 'maize_diseases'.\n",
            "  ➡️ Class: maize_pests\n",
            "    Found 604 images.\n",
            "    ✅ 483 training and 121 validation images copied for class 'maize_pests'.\n",
            "🔍 Processing language folder: CATA-English\n",
            "  ➡️ Class: maize_diseases\n",
            "    Found 3527 images.\n",
            "    ✅ 2821 training and 706 validation images copied for class 'maize_diseases'.\n",
            "  ➡️ Class: tomato_diseases\n",
            "    Found 4152 images.\n"
          ]
        }
      ]
    },
    {
      "cell_type": "code",
      "source": [
        "# Step 2: Create ImageDataGenerators for data augmentation and preprocessing\n",
        "train_datagen = ImageDataGenerator(\n",
        "    rescale=1./255,               # Normalize pixel values to [0,1]\n",
        "    rotation_range=40,\n",
        "    width_shift_range=0.2,\n",
        "    height_shift_range=0.2,\n",
        "    shear_range=0.2,\n",
        "    zoom_range=0.2,\n",
        "    horizontal_flip=True,\n",
        "    fill_mode='nearest')\n",
        "\n",
        "validation_datagen = ImageDataGenerator(rescale=1./255)"
      ],
      "metadata": {
        "id": "I84avfhpWiiN"
      },
      "execution_count": null,
      "outputs": []
    },
    {
      "cell_type": "code",
      "source": [
        "# Step 3: Create data generators for training and validation sets\n",
        "train_generator = train_datagen.flow_from_directory(\n",
        "    os.path.join(OUTPUT_DIR, 'train'),  # Updated with the split data path\n",
        "    target_size=IMG_SIZE,\n",
        "    batch_size=BATCH_SIZE,\n",
        "    class_mode='categorical'  # 'categorical' because we have multiple classes\n",
        ")\n",
        "\n",
        "validation_generator = validation_datagen.flow_from_directory(\n",
        "    os.path.join(OUTPUT_DIR, 'val'),  # Updated with the split data path\n",
        "    target_size=IMG_SIZE,\n",
        "    batch_size=BATCH_SIZE,\n",
        "    class_mode='categorical'\n",
        ")"
      ],
      "metadata": {
        "id": "Xxucoxc3WoF7"
      },
      "execution_count": null,
      "outputs": []
    },
    {
      "cell_type": "code",
      "source": [
        "# Step 4: Build the Model using EfficientNetB0 for transfer learning\n",
        "base_model = tf.keras.applications.EfficientNetB0(\n",
        "    weights='imagenet', include_top=False, input_shape=(224, 224, 3)\n",
        ")\n",
        "base_model.trainable = False  # Freeze the base model layers\n",
        "\n",
        "# Build the model on top of EfficientNetB0\n",
        "model = tf.keras.Sequential([\n",
        "    base_model,\n",
        "    tf.keras.layers.GlobalAveragePooling2D(),\n",
        "    tf.keras.layers.Dropout(0.5),\n",
        "    tf.keras.layers.Dense(256, activation='relu'),\n",
        "    tf.keras.layers.Dense(22, activation='softmax')  # 30 classes\n",
        "])\n",
        "\n",
        "# Compile the model\n",
        "model.compile(optimizer='adam', loss='categorical_crossentropy', metrics=['accuracy'])"
      ],
      "metadata": {
        "id": "zjSzarPyCMws"
      },
      "execution_count": null,
      "outputs": []
    },
    {
      "cell_type": "code",
      "source": [
        "# Step 5: Train the model\n",
        "history = model.fit(\n",
        "    train_generator,\n",
        "    steps_per_epoch=train_generator.samples // train_generator.batch_size,\n",
        "    epochs=10,\n",
        "    validation_data=validation_generator,\n",
        "    validation_steps=validation_generator.samples // validation_generator.batch_size\n",
        ")\n",
        "\n",
        "# Step 6: Save the model\n",
        "model.save('crop_pest_disease_classifier.keras')"
      ],
      "metadata": {
        "id": "KMS8PvoCCgSW"
      },
      "execution_count": null,
      "outputs": []
    }
  ]
}